{
 "cells": [
  {
   "cell_type": "code",
   "execution_count": 3,
   "id": "43691a7d-1304-41cf-8bbc-f199d3ceaa26",
   "metadata": {},
   "outputs": [
    {
     "name": "stdout",
     "output_type": "stream",
     "text": [
      "./AllPublicXML/NCT0000xxxx/NCT00000102.xml\n"
     ]
    }
   ],
   "source": [
    "!ls ./AllPublicXML/NCT0000xxxx/NCT00000102.xml"
   ]
  },
  {
   "cell_type": "code",
   "execution_count": 4,
   "id": "15056580-f619-43ec-bb9b-458cddec480f",
   "metadata": {},
   "outputs": [],
   "source": [
    "from bs4 import BeautifulSoup"
   ]
  },
  {
   "cell_type": "code",
   "execution_count": 5,
   "id": "454511c0-0c11-4689-a777-3e1f6e8d9f4b",
   "metadata": {},
   "outputs": [],
   "source": [
    "with open('./AllPublicXML/NCT0000xxxx/NCT00000102.xml', 'r') as f:\n",
    "    data = f.read()\n",
    "    bs_data = BeautifulSoup(data, \"xml\")"
   ]
  },
  {
   "cell_type": "code",
   "execution_count": 6,
   "id": "14d7235e-855f-496f-b296-337f1e8b9b0a",
   "metadata": {},
   "outputs": [
    {
     "name": "stdout",
     "output_type": "stream",
     "text": [
      "For the trial called Congenital Adrenal Hyperplasia: Calcium Channels as Therapeutic Targets.\n",
      "    You shall match the following criterion:\n",
      "    \n",
      "        Inclusion Criteria:\n",
      "\n",
      "          -  diagnosed with Congenital Adrenal Hyperplasia (CAH)\n",
      "\n",
      "          -  normal ECG during baseline evaluation\n",
      "\n",
      "        Exclusion Criteria:\n",
      "\n",
      "          -  history of liver disease, or elevated liver function tests\n",
      "\n",
      "          -  history of cardiovascular disease\n",
      "      \n",
      "    Gender is All.\n",
      "    Minimun age is 14 Years.\n",
      "    Maximum age is 35 Years.\n",
      "    \n"
     ]
    }
   ],
   "source": [
    "def trial_as_string(bs_data):\n",
    "    eligibility=bs_data.eligibility\n",
    "    return f\"\"\"For the trial called {bs_data.brief_title.contents[0]}.\n",
    "    You shall match the following criterion:\n",
    "    {eligibility.criteria.textblock.contents[0] if eligibility.criteria else ''}\n",
    "    Gender is {eligibility.gender.contents[0]}.\n",
    "    Minimun age is {eligibility.minimum_age.contents[0]}.\n",
    "    Maximum age is {eligibility.maximum_age.contents[0]}.\n",
    "    \"\"\"\n",
    "\n",
    "print(trial_as_string(bs_data))"
   ]
  },
  {
   "cell_type": "code",
   "execution_count": 7,
   "id": "83f34e72-47a9-4da1-b0ae-d66cc8ca261c",
   "metadata": {},
   "outputs": [],
   "source": [
    "import os\n",
    "directory = './AllPublicXML/NCT0000xxxx'\n",
    "result_directory = './AllPublicTXT'\n",
    "for file in os.listdir(directory):\n",
    "    with open(f'{directory}/{file}', 'r') as f:\n",
    "        data = f.read()\n",
    "        bs_data = BeautifulSoup(data, \"xml\")\n",
    "        with open(f\"{result_directory}/{file}.txt\",\"w\") as res:\n",
    "            res.write(trial_as_string(bs_data))\n",
    "            "
   ]
  }
 ],
 "metadata": {
  "kernelspec": {
   "display_name": "python3.11",
   "language": "python",
   "name": "python3.11"
  },
  "language_info": {
   "codemirror_mode": {
    "name": "ipython",
    "version": 3
   },
   "file_extension": ".py",
   "mimetype": "text/x-python",
   "name": "python",
   "nbconvert_exporter": "python",
   "pygments_lexer": "ipython3",
   "version": "3.11.5"
  }
 },
 "nbformat": 4,
 "nbformat_minor": 5
}
