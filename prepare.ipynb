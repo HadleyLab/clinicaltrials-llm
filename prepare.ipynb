{
 "cells": [
  {
   "cell_type": "code",
   "execution_count": 1,
   "id": "4a9b3586-8438-4f3b-8a26-81d6fad50573",
   "metadata": {},
   "outputs": [
    {
     "name": "stdout",
     "output_type": "stream",
     "text": [
      "--2023-09-20 05:45:57--  https://classic.clinicaltrials.gov/AllPublicXML.zip\n",
      "Resolving classic.clinicaltrials.gov (classic.clinicaltrials.gov)... 130.14.29.113, 165.112.7.20, 2607:f220:41e:4290::113, ...\n",
      "Connecting to classic.clinicaltrials.gov (classic.clinicaltrials.gov)|130.14.29.113|:443... connected.\n",
      "HTTP request sent, awaiting response... 200 OK\n",
      "Length: 2239438692 (2.1G) [application/zip]\n",
      "Saving to: ‘AllPublicXML.zip’\n",
      "\n",
      "AllPublicXML.zip    100%[===================>]   2.08G  18.4MB/s    in 62s     \n",
      "\n",
      "2023-09-20 05:47:00 (34.2 MB/s) - ‘AllPublicXML.zip’ saved [2239438692/2239438692]\n",
      "\n"
     ]
    }
   ],
   "source": [
    "!wget https://classic.clinicaltrials.gov/AllPublicXML.zip"
   ]
  },
  {
   "cell_type": "code",
   "execution_count": 4,
   "id": "8ce450db-2c44-44c3-bd3e-da83022d4db2",
   "metadata": {},
   "outputs": [],
   "source": [
    "!mkdir AllPublicXML"
   ]
  },
  {
   "cell_type": "code",
   "execution_count": 5,
   "id": "76c95a7e-4360-45f9-a033-7ade68920eca",
   "metadata": {},
   "outputs": [],
   "source": [
    "!mv AllPublicXML.zip ./AllPublicXML"
   ]
  },
  {
   "cell_type": "code",
   "execution_count": 8,
   "id": "04e2553b-6b71-4dbd-a18b-e3019e35825c",
   "metadata": {},
   "outputs": [],
   "source": [
    "!cd ./AllPublicXML && unzip AllPublicXML.zip > /dev/null"
   ]
  },
  {
   "cell_type": "code",
   "execution_count": null,
   "id": "b74762a5-1dea-48cf-8b06-5ecabf0d01d5",
   "metadata": {},
   "outputs": [],
   "source": [
    "conda create -n python311 python=3.11\n",
    "conda activate python311\n",
    "conda install ipykernel\n",
    "ipython kernel install --name \"python311\" --user"
   ]
  },
  {
   "cell_type": "code",
   "execution_count": 27,
   "id": "6208fa1a-81b3-4b35-b17f-d92c3ff0f006",
   "metadata": {},
   "outputs": [
    {
     "name": "stdout",
     "output_type": "stream",
     "text": [
      "Looking in indexes: https://download.pytorch.org/whl/cu118\n",
      "Requirement already satisfied: torch in /opt/conda/lib/python3.7/site-packages (1.13.1)\n",
      "Requirement already satisfied: typing-extensions in /opt/conda/lib/python3.7/site-packages (from torch) (4.7.1)\n",
      "Requirement already satisfied: nvidia-cuda-runtime-cu11==11.7.99 in /opt/conda/lib/python3.7/site-packages (from torch) (11.7.99)\n",
      "Requirement already satisfied: nvidia-cudnn-cu11==8.5.0.96 in /opt/conda/lib/python3.7/site-packages (from torch) (8.5.0.96)\n",
      "Requirement already satisfied: nvidia-cublas-cu11==11.10.3.66 in /opt/conda/lib/python3.7/site-packages (from torch) (11.10.3.66)\n",
      "Requirement already satisfied: nvidia-cuda-nvrtc-cu11==11.7.99 in /opt/conda/lib/python3.7/site-packages (from torch) (11.7.99)\n",
      "Requirement already satisfied: setuptools in /opt/conda/lib/python3.7/site-packages (from nvidia-cublas-cu11==11.10.3.66->torch) (68.1.2)\n",
      "Requirement already satisfied: wheel in /opt/conda/lib/python3.7/site-packages (from nvidia-cublas-cu11==11.10.3.66->torch) (0.41.2)\n",
      "\u001b[33mWARNING: Running pip as the 'root' user can result in broken permissions and conflicting behaviour with the system package manager. It is recommended to use a virtual environment instead: https://pip.pypa.io/warnings/venv\u001b[0m\u001b[33m\n",
      "\u001b[0m"
     ]
    }
   ],
   "source": [
    "!pip install torch --index-url https://download.pytorch.org/whl/cu118\n"
   ]
  },
  {
   "cell_type": "code",
   "execution_count": null,
   "id": "fc1e9b83-5ab8-4431-8025-59050ef9f2f5",
   "metadata": {},
   "outputs": [],
   "source": [
    "pip install datasets transformers[torch] bitsandbytes==0.40.2 scipy trl==0.4.7 tensorboardX peft==0.4.0 "
   ]
  },
  {
   "cell_type": "code",
   "execution_count": 1,
   "id": "3fccc227-e966-407d-801a-99a95a00d1d9",
   "metadata": {},
   "outputs": [
    {
     "data": {
      "text/plain": [
       "'3.11.5'"
      ]
     },
     "execution_count": 1,
     "metadata": {},
     "output_type": "execute_result"
    }
   ],
   "source": [
    "from platform import python_version\n",
    "python_version()"
   ]
  },
  {
   "cell_type": "code",
   "execution_count": 2,
   "id": "6e65341e-0f74-45d3-8374-dcc69fb9ed78",
   "metadata": {},
   "outputs": [
    {
     "data": {
      "text/plain": [
       "True"
      ]
     },
     "execution_count": 2,
     "metadata": {},
     "output_type": "execute_result"
    }
   ],
   "source": [
    "import torch\n",
    "torch.cuda.is_available()"
   ]
  }
 ],
 "metadata": {
  "kernelspec": {
   "display_name": "Python [conda env:python311]",
   "language": "python",
   "name": "conda-env-python311-py"
  },
  "language_info": {
   "codemirror_mode": {
    "name": "ipython",
    "version": 3
   },
   "file_extension": ".py",
   "mimetype": "text/x-python",
   "name": "python",
   "nbconvert_exporter": "python",
   "pygments_lexer": "ipython3",
   "version": "3.11.5"
  }
 },
 "nbformat": 4,
 "nbformat_minor": 5
}
